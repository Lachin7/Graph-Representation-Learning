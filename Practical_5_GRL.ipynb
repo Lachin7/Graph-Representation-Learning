{
  "nbformat": 4,
  "nbformat_minor": 0,
  "metadata": {
    "colab": {
      "provenance": []
    },
    "kernelspec": {
      "name": "python3",
      "display_name": "Python 3"
    },
    "language_info": {
      "name": "python"
    }
  },
  "cells": [
    {
      "cell_type": "markdown",
      "source": [
        "# **Practical 5**\n",
        "\n",
        "Welcome to the last practical for Graph Representation Learning.\n",
        "\n",
        "We will be implementing the 1-WL hash algorithm that is described in the lectures and testing it on several graphs and GNNs.\n",
        "\n",
        "The main goal of the practical is creating a working implementation of the 1-WL hash algorithm and understanding its applicability and limitations.\n",
        "\n",
        "The notebook is divided into sections, each of which comes with complete or partially completed code. Before each snippet of code there will be a description of what we are about to implement. The sections of code you need to complete are marked as Tasks.\n",
        "\n",
        "Please ensure that you operate within the framework given in the notebook and bring any questions you may have to the practical demonstrators. We suggest that you DO NOT edit code that is a part of the framework, since this will make it more difficult for demonstrators to assist if your code is broken."
      ],
      "metadata": {
        "id": "O12_NFdOzdlD"
      }
    },
    {
      "cell_type": "code",
      "source": [
        "# Check PyTorch version installed on this system\n",
        "!python -c \"import torch; print(torch.__version__)\""
      ],
      "metadata": {
        "id": "8YbmazR-2n-L",
        "colab": {
          "base_uri": "https://localhost:8080/"
        },
        "outputId": "a599a9da-1b52-423a-8915-233795aa72d0"
      },
      "execution_count": null,
      "outputs": [
        {
          "output_type": "stream",
          "name": "stdout",
          "text": [
            "2.5.1+cu121\n"
          ]
        }
      ]
    },
    {
      "cell_type": "code",
      "source": [
        "%%capture\n",
        "# Download the corresponding PyTorch Geometric module\n",
        "\"\"\"\n",
        "Assign to TORCH with what you get from the cell above. E.g., export TORCH=1.12.1+cu113\n",
        "\"\"\"\n",
        "%env TORCH=2.0.1+cu118\n",
        "!pip install torch-scatter -f https://data.pyg.org/whl/torch-${TORCH}.html\n",
        "!pip install torch-sparse -f https://data.pyg.org/whl/torch-${TORCH}.html\n",
        "!pip install torch-geometric"
      ],
      "metadata": {
        "id": "n3wuc62T2pqt"
      },
      "execution_count": null,
      "outputs": []
    },
    {
      "cell_type": "code",
      "source": [
        "import random\n",
        "import numpy as np\n",
        "import torch\n",
        "import torch.nn as nn\n",
        "from torch_geometric.utils import from_networkx\n",
        "from torch_geometric.data import Data\n",
        "from torch_geometric.loader import DataLoader\n",
        "from torch_geometric.nn import Sequential, GCNConv, global_mean_pool\n",
        "import networkx as nx\n",
        "import matplotlib.pyplot as plt\n",
        "\n",
        "device = torch.device('cuda' if torch.cuda.is_available() else 'cpu')\n",
        "rng = np.random.default_rng()"
      ],
      "metadata": {
        "id": "LhDlsXipzg8M"
      },
      "execution_count": null,
      "outputs": []
    },
    {
      "cell_type": "markdown",
      "source": [
        "# **Part 1: Weisfeiler Lehman Graph Hash**"
      ],
      "metadata": {
        "id": "Ez7WXFaZz4De"
      }
    },
    {
      "cell_type": "markdown",
      "source": [
        "## **Task 1.1: Generate graph pairs using NetworkX**\n",
        "\n",
        "For $n$ between 6 and 15, generate all pairs of graphs $(\\mathcal{C_n}, \\mathcal{D}_{n,i}))$, where $\\mathcal{C}_n$ is a cycle on $n$ nodes and $\\mathcal{D}_{n,i}$ is the disjoint union of two cycles, with $n - i$ and $i$ nodes in total (of course the minimum number of nodes in each single connected component you build should be $> 2$). You can use the functions provided by networkx. We suggest you build on top of `networkx.cycle_graph`."
      ],
      "metadata": {
        "id": "IWHgG_5zPIkc"
      }
    },
    {
      "cell_type": "code",
      "source": [
        "import networkx as nx\n",
        "\n",
        "size_range = range(6, 16)\n",
        "\n",
        "graph_pairs = []\n",
        "\n",
        "for n in size_range:\n",
        "    cycle_n = nx.cycle_graph(n)\n",
        "\n",
        "    for i in range(3, n - 2):\n",
        "        cycle_n_minus_i = nx.cycle_graph(n - i)\n",
        "        cycle_i = nx.cycle_graph(i)\n",
        "\n",
        "        disjoint_union = nx.disjoint_union(cycle_n_minus_i, cycle_i)\n",
        "\n",
        "        graph_pairs.append((cycle_n, disjoint_union))\n"
      ],
      "metadata": {
        "id": "Vva-OtQB0ONB"
      },
      "execution_count": null,
      "outputs": []
    },
    {
      "cell_type": "code",
      "source": [
        "### DO NOT MODIFY\n",
        "\n",
        "# Display a random pair\n",
        "fig, axs = plt.subplots(1, 2)\n",
        "pair = random.choice(graph_pairs)\n",
        "for i in range(2):\n",
        "    nx.draw(pair[i], ax=axs[i])\n",
        "    axs[i].set_title(f\"Graph {i+1}\")\n",
        "plt.show()"
      ],
      "metadata": {
        "id": "FYbqZs8RFODw",
        "colab": {
          "base_uri": "https://localhost:8080/",
          "height": 428
        },
        "outputId": "4eda0225-c9a0-40b2-8c8f-602fc639d55e"
      },
      "execution_count": null,
      "outputs": [
        {
          "output_type": "display_data",
          "data": {
            "text/plain": [
              "<Figure size 640x480 with 2 Axes>"
            ],
            "image/png": "[encoded data removed]"
          },
          "metadata": {}
        }
      ]
    },
    {
      "cell_type": "markdown",
      "source": [
        "## **Task 1.2: Implement the Weisfeiler Lehman (WL) graph hash**\n",
        "\n",
        "Implement the function `weisfeiler_lehman_graph_hash` that takes in input a graph $\\mathcal{G}$ and return the hash $WL(\\mathcal{G})$. Use the constant $c = 1$ as the label for each node. For this task, you **cannot** use the utilities provided by the networkx library (except to convert from graphs to tensors if necessary)."
      ],
      "metadata": {
        "id": "SInnrIEhFtlS"
      }
    },
    {
      "cell_type": "code",
      "source": [
        "def weisfeiler_lehman_graph_hash(graph, num_iterations=3):\n",
        "    node_labels = {node: \"1\" for node in graph.nodes()}\n",
        "\n",
        "    for _ in range(num_iterations):\n",
        "        new_labels = {}\n",
        "\n",
        "        for node in graph.nodes():\n",
        "            neighbor_labels = [node_labels[neighbor] for neighbor in graph.neighbors(node)]\n",
        "            sorted_labels = sorted(neighbor_labels)\n",
        "            new_label = node_labels[node] + \"\".join(sorted_labels)\n",
        "            new_labels[node] = str(hash(new_label))\n",
        "\n",
        "        node_labels = new_labels\n",
        "\n",
        "    graph_hash = \"\".join(sorted(node_labels.values()))\n",
        "    return hash(graph_hash)\n"
      ],
      "metadata": {
        "id": "courOsIWGGxJ"
      },
      "execution_count": null,
      "outputs": []
    },
    {
      "cell_type": "markdown",
      "source": [
        "Let's do a sanity check to make sure that the members of each pair previously generated are 1-WL indistinguishable:"
      ],
      "metadata": {
        "id": "EQG5P3EQ0Ron"
      }
    },
    {
      "cell_type": "code",
      "source": [
        "### DO NOT MODIFY\n",
        "\n",
        "wl_indistinguishable_pairs = 0\n",
        "for pair in graph_pairs:\n",
        "    hash0 = weisfeiler_lehman_graph_hash(pair[0])\n",
        "    hash1 = weisfeiler_lehman_graph_hash(pair[1])\n",
        "    wl_indistinguishable_pairs += (hash0 == hash1)\n",
        "\n",
        "# Print the number of pairs produced\n",
        "print(f\"Number of graph pairs: {len(graph_pairs)}\")\n",
        "print(f\"Number of 1-WL indistinguishable pairs: {wl_indistinguishable_pairs}\")"
      ],
      "metadata": {
        "id": "cbQ_cD4n0UY9",
        "colab": {
          "base_uri": "https://localhost:8080/"
        },
        "outputId": "8dfc4562-05e1-419d-c9fa-70028cc0b8d6"
      },
      "execution_count": null,
      "outputs": [
        {
          "output_type": "stream",
          "name": "stdout",
          "text": [
            "Number of graph pairs: 55\n",
            "Number of 1-WL indistinguishable pairs: 55\n"
          ]
        }
      ]
    },
    {
      "cell_type": "markdown",
      "source": [
        "# Part 2: WL with extra node information"
      ],
      "metadata": {
        "id": "IHC26nBz44MC"
      }
    },
    {
      "cell_type": "markdown",
      "source": [
        "## **Task 2.1: Updating the hash function**\n",
        "\n",
        "Modify the `weisfeiler_lehman_graph_hash` to accept an optional extra element corresponding to the features to assign to each node to be used to compute the final hash."
      ],
      "metadata": {
        "id": "7Qej5u5JGwwv"
      }
    },
    {
      "cell_type": "markdown",
      "source": [
        "### Task 2.1.1\n",
        "Use the node degree as initial label to compute the WL hash. What do you expect to change compared to before? Why?"
      ],
      "metadata": {
        "id": "0ZlwqIRZIdN1"
      }
    },
    {
      "cell_type": "code",
      "source": [
        "def node_degrees(graph):\n",
        "    return {node: graph.degree[node] for node in graph.nodes()}\n",
        "\n",
        "\n",
        "def weisfeiler_lehman_graph_hash(graph, num_iterations_or_features=3):\n",
        "\n",
        "    if isinstance(num_iterations_or_features, dict):\n",
        "        initial_features = num_iterations_or_features\n",
        "        num_iterations = 3\n",
        "    else:\n",
        "        initial_features = None\n",
        "        num_iterations = num_iterations_or_features\n",
        "\n",
        "    if initial_features:\n",
        "        node_labels = {node: str(initial_features[node]) for node in graph.nodes()}\n",
        "    else:\n",
        "        node_labels = {node: \"1\" for node in graph.nodes()}\n",
        "\n",
        "    for _ in range(num_iterations):\n",
        "        new_labels = {}\n",
        "\n",
        "        for node in graph.nodes():\n",
        "            neighbor_labels = [node_labels[neighbor] for neighbor in graph.neighbors(node)]\n",
        "            sorted_labels = sorted(neighbor_labels)\n",
        "            new_label = node_labels[node] + \"\".join(sorted_labels)\n",
        "            new_labels[node] = str(hash(new_label))\n",
        "\n",
        "        node_labels = new_labels\n",
        "\n",
        "    graph_hash = \"\".join(sorted(node_labels.values()))\n",
        "    return hash(graph_hash)\n",
        "\n"
      ],
      "metadata": {
        "id": "sa_7JQgeI8CU"
      },
      "execution_count": null,
      "outputs": []
    },
    {
      "cell_type": "code",
      "source": [
        "### DO NOT MODIFY\n",
        "\n",
        "wl_indistinguishable_pairs_with_degree = 0\n",
        "for pair in graph_pairs:\n",
        "    hash0 = weisfeiler_lehman_graph_hash(pair[0], node_degrees(pair[0]))\n",
        "    hash1 = weisfeiler_lehman_graph_hash(pair[1], node_degrees(pair[1]))\n",
        "    wl_indistinguishable_pairs_with_degree += (hash0 == hash1)\n",
        "\n",
        "# Print the number of pairs produced\n",
        "print(f\"Number of graph pairs: {len(graph_pairs)}\")\n",
        "print(f\"Number of 1-WL indistinguishable pairs when\"\n",
        "      f\"using the node degree as label:\\n {wl_indistinguishable_pairs_with_degree}\")"
      ],
      "metadata": {
        "id": "zQt7k5VZJNf-",
        "colab": {
          "base_uri": "https://localhost:8080/"
        },
        "outputId": "ea36adc2-7c03-491d-d920-335c89961929"
      },
      "execution_count": null,
      "outputs": [
        {
          "output_type": "stream",
          "name": "stdout",
          "text": [
            "Number of graph pairs: 55\n",
            "Number of 1-WL indistinguishable pairs whenusing the node degree as label:\n",
            " 55\n"
          ]
        }
      ]
    },
    {
      "cell_type": "markdown",
      "source": [
        "### Task 2.1.2\n",
        "Modify the initial label of each node $N_i$ such that it now contains the shortest path length from $N_i$ to $N_j$. Run `weisfeiler_lehman_graph_hash` using the new labels."
      ],
      "metadata": {
        "id": "kXIr5wFmJtpC"
      }
    },
    {
      "cell_type": "code",
      "source": [
        "def node_shortest_paths(graph):\n",
        "  return dict(nx.all_pairs_shortest_path_length(graph))\n",
        "\n",
        "\n",
        "# def weisfeiler_lehman_with_shortest_paths(graph, num_iterations=3):\n",
        "#     shortest_paths = node_shortest_paths(graph)\n",
        "\n",
        "#     initial_features = {\n",
        "#         node: \"\".join(str(shortest_paths[node][neighbor]) for neighbor in sorted(shortest_paths[node].keys()))\n",
        "#         for node in graph.nodes()\n",
        "#     }\n",
        "\n",
        "#     return weisfeiler_lehman_graph_hash(graph, initial_features=initial_features)\n"
      ],
      "metadata": {
        "id": "yA4FEAhjK3NB"
      },
      "execution_count": null,
      "outputs": []
    },
    {
      "cell_type": "code",
      "source": [
        "### DO NOT MODIFY\n",
        "\n",
        "wl_indistinguishable_pairs_with_shortest_path = 0\n",
        "for pair in graph_pairs:\n",
        "    hash0 = weisfeiler_lehman_graph_hash(pair[0], node_shortest_paths(pair[0]))\n",
        "    hash1 = weisfeiler_lehman_graph_hash(pair[1], node_shortest_paths(pair[1]))\n",
        "    wl_indistinguishable_pairs_with_shortest_path += (hash0 == hash1)\n",
        "\n",
        "# Print the number of pairs produced\n",
        "print(f\"Number of graph pairs: {len(graph_pairs)}\")\n",
        "print(f\"Number of 1-WL indistinguishable pairs when\"\n",
        "      f\"using the shortest path lenghts as label:\\n {wl_indistinguishable_pairs_with_shortest_path}\")"
      ],
      "metadata": {
        "id": "4LxB8sp-LWKI",
        "colab": {
          "base_uri": "https://localhost:8080/"
        },
        "outputId": "c3461666-c0ac-4119-d08f-4009a92649fa"
      },
      "execution_count": null,
      "outputs": [
        {
          "output_type": "stream",
          "name": "stdout",
          "text": [
            "Number of graph pairs: 55\n",
            "Number of 1-WL indistinguishable pairs whenusing the shortest path lenghts as label:\n",
            " 0\n"
          ]
        }
      ]
    },
    {
      "cell_type": "markdown",
      "source": [
        "# **Part 3: Building a GNN**"
      ],
      "metadata": {
        "id": "cA6FogSHGnOq"
      }
    },
    {
      "cell_type": "markdown",
      "source": [
        "## **Task 3.1: Converting the graphs from Task 1.1 to PyTorch Geometric objects**\n",
        "\n",
        "Let's turn each graph into `torch_geometric.data.Data` objects, with some input features `x` and output features `y`.\n",
        "Each previously generated pair should be converted to two Data objects, one for the cycle graph and one for the disjoint union one. The features `x` corresponds to the labels of each node; we will use the same label for each node (e.g., an array of 50 elements each set to 1). The output `y` should be 1 for cycle graphs and 0 for disjoint graphs.\n",
        "\n",
        "(Look at the function `from_networkx`)"
      ],
      "metadata": {
        "id": "4kBIdkokGtbA"
      }
    },
    {
      "cell_type": "code",
      "source": [
        "import torch\n",
        "from torch_geometric.utils import from_networkx\n",
        "\n",
        "dataset = []\n",
        "\n",
        "\n",
        "for pair in graph_pairs:\n",
        "\n",
        "    for i, graph in enumerate(pair):\n",
        "\n",
        "        graph_geom = from_networkx(graph)\n",
        "\n",
        "\n",
        "        num_nodes = graph.number_of_nodes()\n",
        "        graph_geom.x = torch.ones((num_nodes, 50))\n",
        "\n",
        "        graph_geom.y = torch.tensor([1 if i == 0 else 0])\n",
        "\n",
        "        dataset.append(graph_geom)\n",
        "\n",
        "print(dataset[0], dataset[0].y)\n",
        "print(dataset[1], dataset[1].y)\n",
        "print(len(dataset))\n"
      ],
      "metadata": {
        "id": "2svuBMcpGrUX",
        "colab": {
          "base_uri": "https://localhost:8080/"
        },
        "outputId": "864a98f5-9079-41c0-8dbf-eec6c289a2dd"
      },
      "execution_count": null,
      "outputs": [
        {
          "output_type": "stream",
          "name": "stdout",
          "text": [
            "Data(edge_index=[2, 12], num_nodes=6, x=[6, 50], y=[1]) tensor([1])\n",
            "Data(edge_index=[2, 12], num_nodes=6, x=[6, 50], y=[1]) tensor([0])\n",
            "110\n"
          ]
        }
      ]
    },
    {
      "cell_type": "markdown",
      "source": [
        "## **Part 3.2: Defining the model**\n",
        "Let's define our graph neural network. First, we define a module for doing mean pooling."
      ],
      "metadata": {
        "id": "lCHkIGI1GzUG"
      }
    },
    {
      "cell_type": "code",
      "source": [
        "class GlobalMeanPool(nn.Module):\n",
        "    \"\"\"Global mean pool layer.\"\"\"\n",
        "\n",
        "    def forward(self, x, batch=None, size=None):\n",
        "\n",
        "        # If we don't get the batch vector, set it to zeros.\n",
        "        if batch is None:\n",
        "            batch = x.new_zeros(x.size(0), dtype=torch.int64)\n",
        "\n",
        "        return global_mean_pool(x, batch, size)"
      ],
      "metadata": {
        "id": "X-2yv-29GrRf"
      },
      "execution_count": null,
      "outputs": []
    },
    {
      "cell_type": "markdown",
      "source": [
        "**This** is the base GNN model. The function _layer_sequence specifies the list of modules which define the model."
      ],
      "metadata": {
        "id": "X7opxSRFG355"
      }
    },
    {
      "cell_type": "code",
      "source": [
        "class GraphSequenceModel(nn.Module):\n",
        "    \"\"\"A GNN consisting of a stack of layers.\"\"\"\n",
        "\n",
        "    def __init__(self, *args, **kwargs):\n",
        "        super().__init__()\n",
        "        sequence = self._layer_sequence(*args, **kwargs)\n",
        "        self.stack = Sequential(\"x, edge_index, batch\", sequence)\n",
        "\n",
        "    def forward(self, batch):\n",
        "        return self.stack.forward(batch.x, batch.edge_index, batch.batch)\n",
        "\n",
        "    @staticmethod\n",
        "    def _weight_reset(module):\n",
        "        if isinstance(module, GCNConv) or isinstance(module, nn.Linear):\n",
        "            module.reset_parameters()\n",
        "\n",
        "    def reset_parameters(self):\n",
        "        return self.stack.apply(type(self)._weight_reset)"
      ],
      "metadata": {
        "id": "DrfFeTmaGrPU"
      },
      "execution_count": null,
      "outputs": []
    },
    {
      "cell_type": "markdown",
      "source": [
        "Finally, here is the model specification itself:"
      ],
      "metadata": {
        "id": "2IJTxiATG5_t"
      }
    },
    {
      "cell_type": "code",
      "source": [
        "class MPNN(GraphSequenceModel):\n",
        "    \"\"\"An MPNN with a `num_layers` message passing layers, then an MLP.\"\"\"\n",
        "\n",
        "    def _layer_sequence(self, num_layers=16):\n",
        "\n",
        "        # The sequence of layers\n",
        "        sequence = []\n",
        "\n",
        "        # Add `num_layers` message passing layers\n",
        "        for i in range(num_layers):\n",
        "            sequence.append((GCNConv(50, 50), f\"x, edge_index -> x\"))\n",
        "            sequence.append(nn.ReLU())\n",
        "\n",
        "        # A global mean pool layer\n",
        "        sequence.append((GlobalMeanPool(), f\"x, batch -> x\"))\n",
        "\n",
        "        # Add an MLP at the end\n",
        "        sequence.extend([\n",
        "            (nn.Linear(50, 70), \"x -> x\"),\n",
        "            nn.ReLU(),\n",
        "            (nn.Linear(70, 25), \"x -> x\"),\n",
        "            nn.ReLU(),\n",
        "            (nn.Linear(25,2), \"x -> x\")\n",
        "        ])\n",
        "\n",
        "        return sequence"
      ],
      "metadata": {
        "id": "OqF39c80GrDL"
      },
      "execution_count": null,
      "outputs": []
    },
    {
      "cell_type": "markdown",
      "source": [
        "Let's now instantiate the model:"
      ],
      "metadata": {
        "id": "w74N0a4ZG9Uf"
      }
    },
    {
      "cell_type": "code",
      "source": [
        "model1 = MPNN(num_layers=16).to(device)"
      ],
      "metadata": {
        "id": "edtnuZ1LG9lq"
      },
      "execution_count": null,
      "outputs": []
    },
    {
      "cell_type": "markdown",
      "source": [
        "## **Part 3.3: Training, testing and cross-validation functions**\n",
        "This is the generic training loop, which does one epoch-worth of training:\n"
      ],
      "metadata": {
        "id": "9VeNSF2cHBfa"
      }
    },
    {
      "cell_type": "code",
      "source": [
        "def train_epoch(dataloader, model, loss_fn, optimiser):\n",
        "    \"\"\"Do one epoch-worth of training.\"\"\"\n",
        "\n",
        "    # Put the model in training mode\n",
        "    model.train()\n",
        "\n",
        "    # The number of datapoints\n",
        "    size = len(dataloader.dataset)\n",
        "\n",
        "    # Loop over each batch of datapoints\n",
        "    for data in dataloader:\n",
        "\n",
        "        # Set all the gradients to zero\n",
        "        optimiser.zero_grad()\n",
        "\n",
        "        # Make a prediction using the current parameters\n",
        "        pred = model(data)\n",
        "\n",
        "        # Compute the loss for this prediction\n",
        "        loss = loss_fn(pred, data.y)\n",
        "\n",
        "        # Propagate the loss backwards to compute the gradients\n",
        "        loss.backward()\n",
        "\n",
        "        # Do one step of optimisation\n",
        "        optimiser.step()"
      ],
      "metadata": {
        "id": "Zt4jkVa6mJRG"
      },
      "execution_count": null,
      "outputs": []
    },
    {
      "cell_type": "markdown",
      "source": [
        "This function does a full train on the data:"
      ],
      "metadata": {
        "id": "KKynlKpqmUKt"
      }
    },
    {
      "cell_type": "code",
      "source": [
        "def train(train_dataloader, test_dataloader, model, loss_fn, optimiser,\n",
        "          epochs=200, output_every=20):\n",
        "    \"\"\"Train a model for a certain number of epochs.\"\"\"\n",
        "\n",
        "    # Loop through the epochs\n",
        "    for t in range(1, epochs+1):\n",
        "\n",
        "        # Do the training for this epoch\n",
        "        train_epoch(train_dataloader, model, loss_fn, optimiser)\n",
        "\n",
        "        # Output the accuracy of the model every so often\n",
        "        if output_every is not None and t % output_every == 0:\n",
        "            print(f\"Epoch {t}\")\n",
        "            print(\"----------------------------\")\n",
        "            print(f\"Train accuracy: {test(train_dataloader, model):%}\")\n",
        "            print(f\"Test accuracy: {test(test_dataloader, model):%}\")\n",
        "            print()"
      ],
      "metadata": {
        "id": "lqSZEAhsHCGs"
      },
      "execution_count": null,
      "outputs": []
    },
    {
      "cell_type": "markdown",
      "source": [
        "This function tests the model on the data, and returns the accuracy:"
      ],
      "metadata": {
        "id": "d75SYY2qHKw5"
      }
    },
    {
      "cell_type": "code",
      "source": [
        "def test(dataloader, model):\n",
        "    \"\"\"Test a model on some data.\"\"\"\n",
        "\n",
        "    # Put the model in evaluation mode\n",
        "    model.eval()\n",
        "\n",
        "    # Get the number of datapoints\n",
        "    size = len(dataloader.dataset)\n",
        "\n",
        "    # The number of correct predictions\n",
        "    correct = 0\n",
        "\n",
        "    # We don't want to be computing the gradients\n",
        "    with torch.no_grad():\n",
        "\n",
        "        # Loop through the minibatches\n",
        "        for data in dataloader:\n",
        "\n",
        "            # Compute the model predictions\n",
        "            pred = model(data)\n",
        "\n",
        "            # Update with the number of correct predictions\n",
        "            correct += (pred.argmax(1) == data.y).count_nonzero()\n",
        "\n",
        "    # Compute the accuracy for the whole dataset and return it\n",
        "    return correct / len(dataloader.dataset)"
      ],
      "metadata": {
        "id": "CqkcvyoVHBwH"
      },
      "execution_count": null,
      "outputs": []
    },
    {
      "cell_type": "markdown",
      "source": [
        "This function performs cross-validation on the dataset:"
      ],
      "metadata": {
        "id": "8zCwVq53HOVz"
      }
    },
    {
      "cell_type": "code",
      "source": [
        "def cross_validate(dataset, model, loss_fn, optimiser, num_splits=5,\n",
        "                   batch_size=32, epochs=200, output_every=20):\n",
        "    \"\"\"Use k-fold cross validation to evaluate a model on a dataset.\n",
        "\n",
        "    Assumes that the dataset is ordered into consecutive pairs, and then\n",
        "    shuffles and splits the data so that both elements of each pair get into\n",
        "    the same split.\n",
        "    \"\"\"\n",
        "\n",
        "    # Get the number of graphs and number of pairs\n",
        "    size = len(dataset)\n",
        "    num_pairs = size / 2\n",
        "\n",
        "    # Construct a permuter which keeps paired graphs together\n",
        "    pair_permuter = rng.permutation(np.arange(num_pairs)) * 2\n",
        "    graph_permuter = np.empty((size,), dtype=int)\n",
        "    graph_permuter[0::2] = pair_permuter\n",
        "    graph_permuter[1::2] = pair_permuter + 1\n",
        "\n",
        "    # Use the permuter to shuffle the dataset\n",
        "    shuffled_dataset = []\n",
        "    for i in graph_permuter.flat:\n",
        "        shuffled_dataset.append(dataset[i])\n",
        "\n",
        "    # Arrays to store the train and test accuracies for each fold\n",
        "    train_accuracies = np.zeros(num_splits)\n",
        "    test_accuracies = np.zeros(num_splits)\n",
        "\n",
        "    # Loop over the folds\n",
        "    for fold in range(num_splits):\n",
        "\n",
        "        # Print a header to mark this fold\n",
        "        print(f\"Fold {fold+1}\")\n",
        "        print(\"============================\")\n",
        "        print()\n",
        "\n",
        "        # Calculate the current fold segment indices\n",
        "        index_min = int(((num_pairs * fold) // num_splits) * 2)\n",
        "        index_max = int(((num_pairs * (fold+1)) // num_splits) * 2)\n",
        "\n",
        "        # print(index_min, index_max)\n",
        "\n",
        "        # Split into train and test datasets\n",
        "        train_dataset = (shuffled_dataset[:index_min]\n",
        "                         + shuffled_dataset[index_max:])\n",
        "        test_dataset = shuffled_dataset[index_min:index_max]\n",
        "\n",
        "        # Turn these into torch_geometric dataloaders\n",
        "        train_dataloader = DataLoader(train_dataset, batch_size=batch_size)\n",
        "        test_dataloader = DataLoader(test_dataset, batch_size=batch_size)\n",
        "\n",
        "        # Reset the parameter of the model before training\n",
        "        model.reset_parameters()\n",
        "\n",
        "        # Train with these\n",
        "        train(train_dataloader, test_dataloader, model, loss_fn, optimiser,\n",
        "              epochs, output_every)\n",
        "\n",
        "        # Record the test and train accuracies for the trained model\n",
        "        train_accuracies[fold] = test(train_dataloader, model)\n",
        "        test_accuracies[fold] = test(test_dataloader, model)\n",
        "\n",
        "    # Print the Train and test accuracies for each fold\n",
        "    print(f\"{num_splits}-fold validation summary\")\n",
        "    print(\"============================\")\n",
        "    for fold in range(num_splits):\n",
        "        print(f\"Fold {fold+1}. Train: {train_accuracies[fold]:09.5%} \"\n",
        "              f\"Test: {test_accuracies[fold]:09.5%}\")\n"
      ],
      "metadata": {
        "id": "yYUaNfMpHP3-"
      },
      "execution_count": null,
      "outputs": []
    },
    {
      "cell_type": "markdown",
      "source": [
        "## Task 3.4: Training the model\n",
        "\n",
        "Specify loss and optimiser and train the model using the `cross_validate` function. Use a learning rate of 1e-3 and 100 epochs. What results do you get? Is it possible to improve the architecture to get a better test accuracy? Why?"
      ],
      "metadata": {
        "id": "poftURRdHQMU"
      }
    },
    {
      "cell_type": "code",
      "source": [
        "import torch\n",
        "import torch.nn as nn\n",
        "from torch.optim import Adam\n",
        "from torch_geometric.loader import DataLoader\n",
        "\n",
        "model = MPNN(num_layers=16)\n",
        "\n",
        "loss_fn = nn.CrossEntropyLoss()\n",
        "\n",
        "optimizer = Adam(model.parameters(), lr=1e-3)\n",
        "\n",
        "cross_validate(\n",
        "    dataset=dataset,\n",
        "    model=model,\n",
        "    loss_fn=loss_fn,\n",
        "    optimiser=optimizer,\n",
        "    num_splits=5,\n",
        "    batch_size=32,\n",
        "    epochs=100,\n",
        "    output_every=20\n",
        ")\n",
        "\n",
        "\n",
        "\n",
        "\n"
      ],
      "metadata": {
        "id": "_kmLe-25HU_I",
        "colab": {
          "base_uri": "https://localhost:8080/"
        },
        "outputId": "2f1a7cc4-43da-418e-b042-ec55f9ed25a2"
      },
      "execution_count": null,
      "outputs": [
        {
          "output_type": "stream",
          "name": "stdout",
          "text": [
            "Fold 1\n",
            "============================\n",
            "\n",
            "Epoch 20\n",
            "----------------------------\n",
            "Train accuracy: 50.000000%\n",
            "Test accuracy: 50.000000%\n",
            "\n",
            "Epoch 40\n",
            "----------------------------\n",
            "Train accuracy: 50.000000%\n",
            "Test accuracy: 50.000000%\n",
            "\n",
            "Epoch 60\n",
            "----------------------------\n",
            "Train accuracy: 50.000000%\n",
            "Test accuracy: 50.000000%\n",
            "\n",
            "Epoch 80\n",
            "----------------------------\n",
            "Train accuracy: 50.000000%\n",
            "Test accuracy: 50.000000%\n",
            "\n",
            "Epoch 100\n",
            "----------------------------\n",
            "Train accuracy: 50.000000%\n",
            "Test accuracy: 50.000000%\n",
            "\n",
            "Fold 2\n",
            "============================\n",
            "\n",
            "Epoch 20\n",
            "----------------------------\n",
            "Train accuracy: 50.000000%\n",
            "Test accuracy: 50.000000%\n",
            "\n",
            "Epoch 40\n",
            "----------------------------\n",
            "Train accuracy: 50.000000%\n",
            "Test accuracy: 50.000000%\n",
            "\n",
            "Epoch 60\n",
            "----------------------------\n",
            "Train accuracy: 50.000000%\n",
            "Test accuracy: 50.000000%\n",
            "\n",
            "Epoch 80\n",
            "----------------------------\n",
            "Train accuracy: 50.000000%\n",
            "Test accuracy: 50.000000%\n",
            "\n",
            "Epoch 100\n",
            "----------------------------\n",
            "Train accuracy: 50.000000%\n",
            "Test accuracy: 50.000000%\n",
            "\n",
            "Fold 3\n",
            "============================\n",
            "\n",
            "Epoch 20\n",
            "----------------------------\n",
            "Train accuracy: 50.000000%\n",
            "Test accuracy: 50.000000%\n",
            "\n",
            "Epoch 40\n",
            "----------------------------\n",
            "Train accuracy: 50.000000%\n",
            "Test accuracy: 50.000000%\n",
            "\n",
            "Epoch 60\n",
            "----------------------------\n",
            "Train accuracy: 50.000000%\n",
            "Test accuracy: 50.000000%\n",
            "\n",
            "Epoch 80\n",
            "----------------------------\n",
            "Train accuracy: 50.000000%\n",
            "Test accuracy: 50.000000%\n",
            "\n",
            "Epoch 100\n",
            "----------------------------\n",
            "Train accuracy: 50.000000%\n",
            "Test accuracy: 50.000000%\n",
            "\n",
            "Fold 4\n",
            "============================\n",
            "\n",
            "Epoch 20\n",
            "----------------------------\n",
            "Train accuracy: 50.000000%\n",
            "Test accuracy: 50.000000%\n",
            "\n",
            "Epoch 40\n",
            "----------------------------\n",
            "Train accuracy: 50.000000%\n",
            "Test accuracy: 50.000000%\n",
            "\n",
            "Epoch 60\n",
            "----------------------------\n",
            "Train accuracy: 50.000000%\n",
            "Test accuracy: 50.000000%\n",
            "\n",
            "Epoch 80\n",
            "----------------------------\n",
            "Train accuracy: 50.000000%\n",
            "Test accuracy: 50.000000%\n",
            "\n",
            "Epoch 100\n",
            "----------------------------\n",
            "Train accuracy: 50.000000%\n",
            "Test accuracy: 50.000000%\n",
            "\n",
            "Fold 5\n",
            "============================\n",
            "\n",
            "Epoch 20\n",
            "----------------------------\n",
            "Train accuracy: 50.000000%\n",
            "Test accuracy: 50.000000%\n",
            "\n",
            "Epoch 40\n",
            "----------------------------\n",
            "Train accuracy: 50.000000%\n",
            "Test accuracy: 50.000000%\n",
            "\n",
            "Epoch 60\n",
            "----------------------------\n",
            "Train accuracy: 50.000000%\n",
            "Test accuracy: 50.000000%\n",
            "\n",
            "Epoch 80\n",
            "----------------------------\n",
            "Train accuracy: 50.000000%\n",
            "Test accuracy: 50.000000%\n",
            "\n",
            "Epoch 100\n",
            "----------------------------\n",
            "Train accuracy: 50.000000%\n",
            "Test accuracy: 50.000000%\n",
            "\n",
            "5-fold validation summary\n",
            "============================\n",
            "Fold 1. Train: 50.00000% Test: 50.00000%\n",
            "Fold 2. Train: 50.00000% Test: 50.00000%\n",
            "Fold 3. Train: 50.00000% Test: 50.00000%\n",
            "Fold 4. Train: 50.00000% Test: 50.00000%\n",
            "Fold 5. Train: 50.00000% Test: 50.00000%\n"
          ]
        }
      ]
    },
    {
      "cell_type": "code",
      "source": [
        "class EnhancedMPNN(GraphSequenceModel):\n",
        "\n",
        "    def _layer_sequence(self, num_layers=16):\n",
        "        sequence = []\n",
        "\n",
        "        for i in range(num_layers):\n",
        "            sequence.append((GCNConv(50, 50), f\"x, edge_index -> x\"))\n",
        "            sequence.append(nn.ReLU())\n",
        "            sequence.append(nn.Dropout(p=0.5))\n",
        "\n",
        "        sequence.append((GlobalMeanPool(), f\"x, batch -> x\"))\n",
        "\n",
        "        sequence.extend([\n",
        "            (nn.Linear(50, 70), \"x -> x\"),\n",
        "            nn.ReLU(),\n",
        "            (nn.Dropout(p=0.5)),\n",
        "            (nn.Linear(70, 25), \"x -> x\"),\n",
        "            nn.ReLU(),\n",
        "            (nn.Linear(25, 2), \"x -> x\")\n",
        "        ])\n",
        "\n",
        "        return sequence"
      ],
      "metadata": {
        "id": "Lshm8Xz-izaS"
      },
      "execution_count": null,
      "outputs": []
    },
    {
      "cell_type": "code",
      "source": [
        "def enhanced_dataset_with_shortest_paths(graph_pairs):\n",
        "    dataset = []\n",
        "    for pair in graph_pairs:\n",
        "        for i, graph in enumerate(pair):\n",
        "            graph_geom = from_networkx(graph)\n",
        "            shortest_paths = dict(nx.all_pairs_shortest_path_length(graph))\n",
        "            node_features = [\n",
        "                [shortest_paths[node].get(neighbor, float('inf')) for neighbor in sorted(graph.nodes())]\n",
        "                for node in graph.nodes()\n",
        "            ]\n",
        "            graph_geom.x = torch.tensor(node_features, dtype=torch.float32)\n",
        "            graph_geom.y = torch.tensor([1 if i == 0 else 0])\n",
        "            dataset.append(graph_geom)\n",
        "    return dataset\n",
        "\n",
        "dataset = enhanced_dataset_with_shortest_paths(graph_pairs)\n"
      ],
      "metadata": {
        "id": "DCVmHIl3lojx"
      },
      "execution_count": null,
      "outputs": []
    },
    {
      "cell_type": "code",
      "source": [
        "model = MPNN(num_layers=16)\n",
        "loss_fn = nn.CrossEntropyLoss()\n",
        "optimizer = Adam(model.parameters(), lr=1e-3)\n",
        "\n",
        "cross_validate(\n",
        "    dataset=dataset,\n",
        "    model=model,\n",
        "    loss_fn=loss_fn,\n",
        "    optimiser=optimizer,\n",
        "    num_splits=5,\n",
        "    batch_size=32,\n",
        "    epochs=100,\n",
        "    output_every=20\n",
        ")\n"
      ],
      "metadata": {
        "colab": {
          "base_uri": "https://localhost:8080/",
          "height": 418
        },
        "id": "02VHqImijY9B",
        "outputId": "72db4124-b924-4aff-d7b0-109715a40ed3"
      },
      "execution_count": null,
      "outputs": [
        {
          "output_type": "stream",
          "name": "stdout",
          "text": [
            "Fold 1\n",
            "============================\n",
            "\n"
          ]
        },
        {
          "output_type": "error",
          "ename": "RuntimeError",
          "evalue": "Sizes of tensors must match except in dimension 0. Expected size 11 but got size 13 for tensor number 2 in the list.",
          "traceback": [
            "\u001b[0;31m---------------------------------------------------------------------------\u001b[0m",
            "\u001b[0;31mRuntimeError\u001b[0m                              Traceback (most recent call last)",
            "\u001b[0;32m<ipython-input-45-1fe64dc4628d>\u001b[0m in \u001b[0;36m<cell line: 5>\u001b[0;34m()\u001b[0m\n\u001b[1;32m      3\u001b[0m \u001b[0moptimizer\u001b[0m \u001b[0;34m=\u001b[0m \u001b[0mAdam\u001b[0m\u001b[0;34m(\u001b[0m\u001b[0mmodel\u001b[0m\u001b[0;34m.\u001b[0m\u001b[0mparameters\u001b[0m\u001b[0;34m(\u001b[0m\u001b[0;34m)\u001b[0m\u001b[0;34m,\u001b[0m \u001b[0mlr\u001b[0m\u001b[0;34m=\u001b[0m\u001b[0;36m1e-3\u001b[0m\u001b[0;34m)\u001b[0m\u001b[0;34m\u001b[0m\u001b[0;34m\u001b[0m\u001b[0m\n\u001b[1;32m      4\u001b[0m \u001b[0;34m\u001b[0m\u001b[0m\n\u001b[0;32m----> 5\u001b[0;31m cross_validate(\n\u001b[0m\u001b[1;32m      6\u001b[0m     \u001b[0mdataset\u001b[0m\u001b[0;34m=\u001b[0m\u001b[0mdataset\u001b[0m\u001b[0;34m,\u001b[0m\u001b[0;34m\u001b[0m\u001b[0;34m\u001b[0m\u001b[0m\n\u001b[1;32m      7\u001b[0m     \u001b[0mmodel\u001b[0m\u001b[0;34m=\u001b[0m\u001b[0mmodel\u001b[0m\u001b[0;34m,\u001b[0m\u001b[0;34m\u001b[0m\u001b[0;34m\u001b[0m\u001b[0m\n",
            "\u001b[0;32m<ipython-input-24-028a17f51ccc>\u001b[0m in \u001b[0;36mcross_validate\u001b[0;34m(dataset, model, loss_fn, optimiser, num_splits, batch_size, epochs, output_every)\u001b[0m\n\u001b[1;32m     54\u001b[0m \u001b[0;34m\u001b[0m\u001b[0m\n\u001b[1;32m     55\u001b[0m         \u001b[0;31m# Train with these\u001b[0m\u001b[0;34m\u001b[0m\u001b[0;34m\u001b[0m\u001b[0m\n\u001b[0;32m---> 56\u001b[0;31m         train(train_dataloader, test_dataloader, model, loss_fn, optimiser,\n\u001b[0m\u001b[1;32m     57\u001b[0m               epochs, output_every)\n\u001b[1;32m     58\u001b[0m \u001b[0;34m\u001b[0m\u001b[0m\n",
            "\u001b[0;32m<ipython-input-22-8ea9b450280e>\u001b[0m in \u001b[0;36mtrain\u001b[0;34m(train_dataloader, test_dataloader, model, loss_fn, optimiser, epochs, output_every)\u001b[0m\n\u001b[1;32m      7\u001b[0m \u001b[0;34m\u001b[0m\u001b[0m\n\u001b[1;32m      8\u001b[0m         \u001b[0;31m# Do the training for this epoch\u001b[0m\u001b[0;34m\u001b[0m\u001b[0;34m\u001b[0m\u001b[0m\n\u001b[0;32m----> 9\u001b[0;31m         \u001b[0mtrain_epoch\u001b[0m\u001b[0;34m(\u001b[0m\u001b[0mtrain_dataloader\u001b[0m\u001b[0;34m,\u001b[0m \u001b[0mmodel\u001b[0m\u001b[0;34m,\u001b[0m \u001b[0mloss_fn\u001b[0m\u001b[0;34m,\u001b[0m \u001b[0moptimiser\u001b[0m\u001b[0;34m)\u001b[0m\u001b[0;34m\u001b[0m\u001b[0;34m\u001b[0m\u001b[0m\n\u001b[0m\u001b[1;32m     10\u001b[0m \u001b[0;34m\u001b[0m\u001b[0m\n\u001b[1;32m     11\u001b[0m         \u001b[0;31m# Output the accuracy of the model every so often\u001b[0m\u001b[0;34m\u001b[0m\u001b[0;34m\u001b[0m\u001b[0m\n",
            "\u001b[0;32m<ipython-input-21-bdd82f6bbe9b>\u001b[0m in \u001b[0;36mtrain_epoch\u001b[0;34m(dataloader, model, loss_fn, optimiser)\u001b[0m\n\u001b[1;32m      9\u001b[0m \u001b[0;34m\u001b[0m\u001b[0m\n\u001b[1;32m     10\u001b[0m     \u001b[0;31m# Loop over each batch of datapoints\u001b[0m\u001b[0;34m\u001b[0m\u001b[0;34m\u001b[0m\u001b[0m\n\u001b[0;32m---> 11\u001b[0;31m     \u001b[0;32mfor\u001b[0m \u001b[0mdata\u001b[0m \u001b[0;32min\u001b[0m \u001b[0mdataloader\u001b[0m\u001b[0;34m:\u001b[0m\u001b[0;34m\u001b[0m\u001b[0;34m\u001b[0m\u001b[0m\n\u001b[0m\u001b[1;32m     12\u001b[0m \u001b[0;34m\u001b[0m\u001b[0m\n\u001b[1;32m     13\u001b[0m         \u001b[0;31m# Set all the gradients to zero\u001b[0m\u001b[0;34m\u001b[0m\u001b[0;34m\u001b[0m\u001b[0m\n",
            "\u001b[0;32m/usr/local/lib/python3.10/dist-packages/torch/utils/data/dataloader.py\u001b[0m in \u001b[0;36m__next__\u001b[0;34m(self)\u001b[0m\n\u001b[1;32m    699\u001b[0m                 \u001b[0;31m# TODO(https://github.com/pytorch/pytorch/issues/76750)\u001b[0m\u001b[0;34m\u001b[0m\u001b[0;34m\u001b[0m\u001b[0m\n\u001b[1;32m    700\u001b[0m                 \u001b[0mself\u001b[0m\u001b[0;34m.\u001b[0m\u001b[0m_reset\u001b[0m\u001b[0;34m(\u001b[0m\u001b[0;34m)\u001b[0m  \u001b[0;31m# type: ignore[call-arg]\u001b[0m\u001b[0;34m\u001b[0m\u001b[0;34m\u001b[0m\u001b[0m\n\u001b[0;32m--> 701\u001b[0;31m             \u001b[0mdata\u001b[0m \u001b[0;34m=\u001b[0m \u001b[0mself\u001b[0m\u001b[0;34m.\u001b[0m\u001b[0m_next_data\u001b[0m\u001b[0;34m(\u001b[0m\u001b[0;34m)\u001b[0m\u001b[0;34m\u001b[0m\u001b[0;34m\u001b[0m\u001b[0m\n\u001b[0m\u001b[1;32m    702\u001b[0m             \u001b[0mself\u001b[0m\u001b[0;34m.\u001b[0m\u001b[0m_num_yielded\u001b[0m \u001b[0;34m+=\u001b[0m \u001b[0;36m1\u001b[0m\u001b[0;34m\u001b[0m\u001b[0;34m\u001b[0m\u001b[0m\n\u001b[1;32m    703\u001b[0m             if (\n",
            "\u001b[0;32m/usr/local/lib/python3.10/dist-packages/torch/utils/data/dataloader.py\u001b[0m in \u001b[0;36m_next_data\u001b[0;34m(self)\u001b[0m\n\u001b[1;32m    755\u001b[0m     \u001b[0;32mdef\u001b[0m \u001b[0m_next_data\u001b[0m\u001b[0;34m(\u001b[0m\u001b[0mself\u001b[0m\u001b[0;34m)\u001b[0m\u001b[0;34m:\u001b[0m\u001b[0;34m\u001b[0m\u001b[0;34m\u001b[0m\u001b[0m\n\u001b[1;32m    756\u001b[0m         \u001b[0mindex\u001b[0m \u001b[0;34m=\u001b[0m \u001b[0mself\u001b[0m\u001b[0;34m.\u001b[0m\u001b[0m_next_index\u001b[0m\u001b[0;34m(\u001b[0m\u001b[0;34m)\u001b[0m  \u001b[0;31m# may raise StopIteration\u001b[0m\u001b[0;34m\u001b[0m\u001b[0;34m\u001b[0m\u001b[0m\n\u001b[0;32m--> 757\u001b[0;31m         \u001b[0mdata\u001b[0m \u001b[0;34m=\u001b[0m \u001b[0mself\u001b[0m\u001b[0;34m.\u001b[0m\u001b[0m_dataset_fetcher\u001b[0m\u001b[0;34m.\u001b[0m\u001b[0mfetch\u001b[0m\u001b[0;34m(\u001b[0m\u001b[0mindex\u001b[0m\u001b[0;34m)\u001b[0m  \u001b[0;31m# may raise StopIteration\u001b[0m\u001b[0;34m\u001b[0m\u001b[0;34m\u001b[0m\u001b[0m\n\u001b[0m\u001b[1;32m    758\u001b[0m         \u001b[0;32mif\u001b[0m \u001b[0mself\u001b[0m\u001b[0;34m.\u001b[0m\u001b[0m_pin_memory\u001b[0m\u001b[0;34m:\u001b[0m\u001b[0;34m\u001b[0m\u001b[0;34m\u001b[0m\u001b[0m\n\u001b[1;32m    759\u001b[0m             \u001b[0mdata\u001b[0m \u001b[0;34m=\u001b[0m \u001b[0m_utils\u001b[0m\u001b[0;34m.\u001b[0m\u001b[0mpin_memory\u001b[0m\u001b[0;34m.\u001b[0m\u001b[0mpin_memory\u001b[0m\u001b[0;34m(\u001b[0m\u001b[0mdata\u001b[0m\u001b[0;34m,\u001b[0m \u001b[0mself\u001b[0m\u001b[0;34m.\u001b[0m\u001b[0m_pin_memory_device\u001b[0m\u001b[0;34m)\u001b[0m\u001b[0;34m\u001b[0m\u001b[0;34m\u001b[0m\u001b[0m\n",
            "\u001b[0;32m/usr/local/lib/python3.10/dist-packages/torch/utils/data/_utils/fetch.py\u001b[0m in \u001b[0;36mfetch\u001b[0;34m(self, possibly_batched_index)\u001b[0m\n\u001b[1;32m     53\u001b[0m         \u001b[0;32melse\u001b[0m\u001b[0;34m:\u001b[0m\u001b[0;34m\u001b[0m\u001b[0;34m\u001b[0m\u001b[0m\n\u001b[1;32m     54\u001b[0m             \u001b[0mdata\u001b[0m \u001b[0;34m=\u001b[0m \u001b[0mself\u001b[0m\u001b[0;34m.\u001b[0m\u001b[0mdataset\u001b[0m\u001b[0;34m[\u001b[0m\u001b[0mpossibly_batched_index\u001b[0m\u001b[0;34m]\u001b[0m\u001b[0;34m\u001b[0m\u001b[0;34m\u001b[0m\u001b[0m\n\u001b[0;32m---> 55\u001b[0;31m         \u001b[0;32mreturn\u001b[0m \u001b[0mself\u001b[0m\u001b[0;34m.\u001b[0m\u001b[0mcollate_fn\u001b[0m\u001b[0;34m(\u001b[0m\u001b[0mdata\u001b[0m\u001b[0;34m)\u001b[0m\u001b[0;34m\u001b[0m\u001b[0;34m\u001b[0m\u001b[0m\n\u001b[0m",
            "\u001b[0;32m/usr/local/lib/python3.10/dist-packages/torch_geometric/loader/dataloader.py\u001b[0m in \u001b[0;36m__call__\u001b[0;34m(self, batch)\u001b[0m\n\u001b[1;32m     25\u001b[0m         \u001b[0melem\u001b[0m \u001b[0;34m=\u001b[0m \u001b[0mbatch\u001b[0m\u001b[0;34m[\u001b[0m\u001b[0;36m0\u001b[0m\u001b[0;34m]\u001b[0m\u001b[0;34m\u001b[0m\u001b[0;34m\u001b[0m\u001b[0m\n\u001b[1;32m     26\u001b[0m         \u001b[0;32mif\u001b[0m \u001b[0misinstance\u001b[0m\u001b[0;34m(\u001b[0m\u001b[0melem\u001b[0m\u001b[0;34m,\u001b[0m \u001b[0mBaseData\u001b[0m\u001b[0;34m)\u001b[0m\u001b[0;34m:\u001b[0m\u001b[0;34m\u001b[0m\u001b[0;34m\u001b[0m\u001b[0m\n\u001b[0;32m---> 27\u001b[0;31m             return Batch.from_data_list(\n\u001b[0m\u001b[1;32m     28\u001b[0m                 \u001b[0mbatch\u001b[0m\u001b[0;34m,\u001b[0m\u001b[0;34m\u001b[0m\u001b[0;34m\u001b[0m\u001b[0m\n\u001b[1;32m     29\u001b[0m                 \u001b[0mfollow_batch\u001b[0m\u001b[0;34m=\u001b[0m\u001b[0mself\u001b[0m\u001b[0;34m.\u001b[0m\u001b[0mfollow_batch\u001b[0m\u001b[0;34m,\u001b[0m\u001b[0;34m\u001b[0m\u001b[0;34m\u001b[0m\u001b[0m\n",
            "\u001b[0;32m/usr/local/lib/python3.10/dist-packages/torch_geometric/data/batch.py\u001b[0m in \u001b[0;36mfrom_data_list\u001b[0;34m(cls, data_list, follow_batch, exclude_keys)\u001b[0m\n\u001b[1;32m     95\u001b[0m         \u001b[0mWill\u001b[0m \u001b[0mexclude\u001b[0m \u001b[0many\u001b[0m \u001b[0mkeys\u001b[0m \u001b[0mgiven\u001b[0m \u001b[0;32min\u001b[0m \u001b[0;34m:\u001b[0m\u001b[0mobj\u001b[0m\u001b[0;34m:\u001b[0m\u001b[0;31m`\u001b[0m\u001b[0mexclude_keys\u001b[0m\u001b[0;31m`\u001b[0m\u001b[0;34m.\u001b[0m\u001b[0;34m\u001b[0m\u001b[0;34m\u001b[0m\u001b[0m\n\u001b[1;32m     96\u001b[0m         \"\"\"\n\u001b[0;32m---> 97\u001b[0;31m         batch, slice_dict, inc_dict = collate(\n\u001b[0m\u001b[1;32m     98\u001b[0m             \u001b[0mcls\u001b[0m\u001b[0;34m,\u001b[0m\u001b[0;34m\u001b[0m\u001b[0;34m\u001b[0m\u001b[0m\n\u001b[1;32m     99\u001b[0m             \u001b[0mdata_list\u001b[0m\u001b[0;34m=\u001b[0m\u001b[0mdata_list\u001b[0m\u001b[0;34m,\u001b[0m\u001b[0;34m\u001b[0m\u001b[0;34m\u001b[0m\u001b[0m\n",
            "\u001b[0;32m/usr/local/lib/python3.10/dist-packages/torch_geometric/data/collate.py\u001b[0m in \u001b[0;36mcollate\u001b[0;34m(cls, data_list, increment, add_batch, follow_batch, exclude_keys)\u001b[0m\n\u001b[1;32m    107\u001b[0m \u001b[0;34m\u001b[0m\u001b[0m\n\u001b[1;32m    108\u001b[0m             \u001b[0;31m# Collate attributes into a unified representation:\u001b[0m\u001b[0;34m\u001b[0m\u001b[0;34m\u001b[0m\u001b[0m\n\u001b[0;32m--> 109\u001b[0;31m             value, slices, incs = _collate(attr, values, data_list, stores,\n\u001b[0m\u001b[1;32m    110\u001b[0m                                            increment)\n\u001b[1;32m    111\u001b[0m \u001b[0;34m\u001b[0m\u001b[0m\n",
            "\u001b[0;32m/usr/local/lib/python3.10/dist-packages/torch_geometric/data/collate.py\u001b[0m in \u001b[0;36m_collate\u001b[0;34m(key, values, data_list, stores, increment)\u001b[0m\n\u001b[1;32m    203\u001b[0m             \u001b[0mout\u001b[0m \u001b[0;34m=\u001b[0m \u001b[0melem\u001b[0m\u001b[0;34m.\u001b[0m\u001b[0mnew\u001b[0m\u001b[0;34m(\u001b[0m\u001b[0mstorage\u001b[0m\u001b[0;34m)\u001b[0m\u001b[0;34m.\u001b[0m\u001b[0mresize_\u001b[0m\u001b[0;34m(\u001b[0m\u001b[0;34m*\u001b[0m\u001b[0mshape\u001b[0m\u001b[0;34m)\u001b[0m\u001b[0;34m\u001b[0m\u001b[0;34m\u001b[0m\u001b[0m\n\u001b[1;32m    204\u001b[0m \u001b[0;34m\u001b[0m\u001b[0m\n\u001b[0;32m--> 205\u001b[0;31m         \u001b[0mvalue\u001b[0m \u001b[0;34m=\u001b[0m \u001b[0mtorch\u001b[0m\u001b[0;34m.\u001b[0m\u001b[0mcat\u001b[0m\u001b[0;34m(\u001b[0m\u001b[0mvalues\u001b[0m\u001b[0;34m,\u001b[0m \u001b[0mdim\u001b[0m\u001b[0;34m=\u001b[0m\u001b[0mcat_dim\u001b[0m \u001b[0;32mor\u001b[0m \u001b[0;36m0\u001b[0m\u001b[0;34m,\u001b[0m \u001b[0mout\u001b[0m\u001b[0;34m=\u001b[0m\u001b[0mout\u001b[0m\u001b[0;34m)\u001b[0m\u001b[0;34m\u001b[0m\u001b[0;34m\u001b[0m\u001b[0m\n\u001b[0m\u001b[1;32m    206\u001b[0m \u001b[0;34m\u001b[0m\u001b[0m\n\u001b[1;32m    207\u001b[0m         \u001b[0;32mif\u001b[0m \u001b[0mincrement\u001b[0m \u001b[0;32mand\u001b[0m \u001b[0misinstance\u001b[0m\u001b[0;34m(\u001b[0m\u001b[0mvalue\u001b[0m\u001b[0;34m,\u001b[0m \u001b[0mIndex\u001b[0m\u001b[0;34m)\u001b[0m \u001b[0;32mand\u001b[0m \u001b[0mvalues\u001b[0m\u001b[0;34m[\u001b[0m\u001b[0;36m0\u001b[0m\u001b[0;34m]\u001b[0m\u001b[0;34m.\u001b[0m\u001b[0mis_sorted\u001b[0m\u001b[0;34m:\u001b[0m\u001b[0;34m\u001b[0m\u001b[0;34m\u001b[0m\u001b[0m\n",
            "\u001b[0;31mRuntimeError\u001b[0m: Sizes of tensors must match except in dimension 0. Expected size 11 but got size 13 for tensor number 2 in the list."
          ]
        }
      ]
    },
    {
      "cell_type": "code",
      "source": [],
      "metadata": {
        "id": "LLqLcNCOjg8f"
      },
      "execution_count": null,
      "outputs": []
    }
  ]
}